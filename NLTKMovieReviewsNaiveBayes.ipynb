{
 "cells": [
  {
   "cell_type": "code",
   "execution_count": 1,
   "id": "0231ace1",
   "metadata": {},
   "outputs": [],
   "source": [
    "import nltk\n",
    "from nltk.corpus import movie_reviews\n",
    "from nltk.stem import WordNetLemmatizer\n",
    "from nltk.corpus import wordnet\n",
    "from nltk import pos_tag\n",
    "from nltk.corpus import stopwords\n",
    "from nltk import FreqDist\n",
    "from nltk import NaiveBayesClassifier\n",
    "import string\n",
    "from sklearn.model_selection import train_test_split\n",
    "import random"
   ]
  },
  {
   "cell_type": "code",
   "execution_count": 2,
   "id": "c603549e",
   "metadata": {},
   "outputs": [],
   "source": [
    "def get_simple_pos_tag(nltk_pos_tag):\n",
    "    if nltk_pos_tag.startswith('J'):\n",
    "        return wordnet.ADJ\n",
    "    elif nltk_pos_tag.startswith('V'):\n",
    "        return wordnet.VERB\n",
    "    elif nltk_pos_tag.startswith('R'):\n",
    "        return wordnet.ADV\n",
    "    else:\n",
    "        return wordnet.NOUN"
   ]
  },
  {
   "cell_type": "code",
   "execution_count": 3,
   "id": "24dfce68",
   "metadata": {},
   "outputs": [],
   "source": [
    "documents = []\n",
    "for category in movie_reviews.categories():\n",
    "    for fileid in movie_reviews.fileids(category):\n",
    "        documents.append((movie_reviews.words(fileid), category))    "
   ]
  },
  {
   "cell_type": "code",
   "execution_count": 4,
   "id": "fe969b5e",
   "metadata": {},
   "outputs": [],
   "source": [
    "stop_words = set(stopwords.words('english'))\n",
    "punctuation = list(string.punctuation)\n",
    "stop_words.update(punctuation)\n",
    "\n",
    "lemmatizer = WordNetLemmatizer() \n",
    "\n",
    "def clean_review(word_list):\n",
    "    final_words = []\n",
    "    for word in word_list:\n",
    "        if word.lower() not in stop_words:\n",
    "            pos = pos_tag([word])\n",
    "            clean_word = lemmatizer.lemmatize(word, pos = get_simple_pos_tag(pos[0][1]))\n",
    "            final_words.append(clean_word.lower())\n",
    "    return final_words"
   ]
  },
  {
   "cell_type": "code",
   "execution_count": 5,
   "id": "76fd3761",
   "metadata": {},
   "outputs": [],
   "source": [
    "documents = [(clean_review(document_words), category) for document_words, category in documents] "
   ]
  },
  {
   "cell_type": "code",
   "execution_count": 6,
   "id": "9878ab89",
   "metadata": {},
   "outputs": [],
   "source": [
    "random.shuffle(documents)"
   ]
  },
  {
   "cell_type": "code",
   "execution_count": 7,
   "id": "eaef138a",
   "metadata": {},
   "outputs": [],
   "source": [
    "documents_train = documents[0: 1500]\n",
    "documents_test = documents[1500:]"
   ]
  },
  {
   "cell_type": "code",
   "execution_count": 8,
   "id": "070719de",
   "metadata": {},
   "outputs": [],
   "source": [
    "all_words = []\n",
    "for doc in documents_train:\n",
    "    all_words += doc[0]"
   ]
  },
  {
   "cell_type": "code",
   "execution_count": 9,
   "id": "e461bf15",
   "metadata": {},
   "outputs": [],
   "source": [
    "frequency = FreqDist(all_words)\n",
    "features = [i[0] for i in frequency.most_common(3000)]"
   ]
  },
  {
   "cell_type": "code",
   "execution_count": 10,
   "id": "f25ae9de",
   "metadata": {},
   "outputs": [],
   "source": [
    "def get_feature_dictionary(document_words):\n",
    "    document_features = {}\n",
    "    document_words = set(document_words)\n",
    "    for word in features:\n",
    "        document_features[word] = (word in document_words)\n",
    "    return document_features"
   ]
  },
  {
   "cell_type": "code",
   "execution_count": 11,
   "id": "e3a19554",
   "metadata": {},
   "outputs": [],
   "source": [
    "training_data = [(get_feature_dictionary(document_words), category) for document_words, category in documents_train]\n",
    "testing_data = [(get_feature_dictionary(document_words), category) for document_words, category in documents_test]"
   ]
  },
  {
   "cell_type": "code",
   "execution_count": 12,
   "id": "33924571",
   "metadata": {},
   "outputs": [],
   "source": [
    "classifier = NaiveBayesClassifier.train(training_data)"
   ]
  },
  {
   "cell_type": "code",
   "execution_count": 13,
   "id": "9f326b0f",
   "metadata": {},
   "outputs": [
    {
     "data": {
      "text/plain": [
       "0.798"
      ]
     },
     "execution_count": 13,
     "metadata": {},
     "output_type": "execute_result"
    }
   ],
   "source": [
    "nltk.classify.accuracy(classifier, testing_data)"
   ]
  },
  {
   "cell_type": "code",
   "execution_count": 14,
   "id": "b2e2c9ce",
   "metadata": {},
   "outputs": [
    {
     "name": "stdout",
     "output_type": "stream",
     "text": [
      "Most Informative Features\n",
      "             beautifully = True              pos : neg    =     12.7 : 1.0\n",
      "                  seagal = True              neg : pos    =     12.3 : 1.0\n",
      "               ludicrous = True              neg : pos    =     11.3 : 1.0\n",
      "             outstanding = True              pos : neg    =     10.8 : 1.0\n",
      "                     era = True              pos : neg    =      9.5 : 1.0\n",
      "                   inept = True              neg : pos    =      9.0 : 1.0\n",
      "                   jolie = True              neg : pos    =      9.0 : 1.0\n",
      "                   anger = True              pos : neg    =      8.8 : 1.0\n",
      "                  turkey = True              neg : pos    =      6.7 : 1.0\n",
      "             wonderfully = True              pos : neg    =      6.6 : 1.0\n",
      "            breathtaking = True              pos : neg    =      6.4 : 1.0\n",
      "                   awful = True              neg : pos    =      6.2 : 1.0\n",
      "                 unusual = True              pos : neg    =      5.9 : 1.0\n",
      "                poignant = True              pos : neg    =      5.9 : 1.0\n",
      "                    jedi = True              pos : neg    =      5.8 : 1.0\n",
      "                    lame = True              neg : pos    =      5.7 : 1.0\n",
      "                    jude = True              pos : neg    =      5.7 : 1.0\n",
      "                flawless = True              pos : neg    =      5.5 : 1.0\n",
      "                religion = True              pos : neg    =      5.5 : 1.0\n",
      "                 triumph = True              pos : neg    =      5.5 : 1.0\n"
     ]
    }
   ],
   "source": [
    "classifier.show_most_informative_features(20)"
   ]
  }
 ],
 "metadata": {
  "kernelspec": {
   "display_name": "Python 3",
   "language": "python",
   "name": "python3"
  },
  "language_info": {
   "codemirror_mode": {
    "name": "ipython",
    "version": 3
   },
   "file_extension": ".py",
   "mimetype": "text/x-python",
   "name": "python",
   "nbconvert_exporter": "python",
   "pygments_lexer": "ipython3",
   "version": "3.8.8"
  }
 },
 "nbformat": 4,
 "nbformat_minor": 5
}
